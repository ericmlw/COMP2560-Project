{
 "cells": [
  {
   "cell_type": "code",
   "execution_count": 346,
   "metadata": {},
   "outputs": [],
   "source": [
    "import numpy as np\n",
    "import pandas as pd\n",
    "import torch\n",
    "import torch.optim as optim\n",
    "import torch.nn as nn\n",
    "from sklearn.model_selection import train_test_split\n",
    "from matplotlib import pyplot as plt\n",
    "from sklearn.preprocessing import StandardScaler\n",
    "from sklearn.decomposition import PCA\n",
    "import sys\n",
    "sys.path.append(\"FederatedLearning-main\")\n",
    "import Model\n",
    "\n",
    "scenario_one=pd.read_csv(\"database/Scenario_1/Scenario_1_C.csv\")\n",
    "scenario_two=pd.read_csv(\"database/Scenario_2/Scenario_2_C.csv\")\n",
    "scenario_three=pd.read_csv(\"database/Scenario_3/Scenario_3_C.csv\")\n",
    "scenarios=[scenario_one,scenario_two,scenario_three]"
   ]
  },
  {
   "cell_type": "code",
   "execution_count": 347,
   "metadata": {},
   "outputs": [],
   "source": [
    "def columnwise_na_elimiation(data):\n",
    "    \"\"\"\n",
    "    The method filter out all columns contains NA value in the set\n",
    "\n",
    "    Input: pandas dataframe\n",
    "    Output: non-NA containing pandas dataframe \n",
    "    \"\"\"\n",
    "    col_na=data.isna().sum(axis=0)\n",
    "    # print(col_na)\n",
    "    col_na[col_na!=0]=1\n",
    "    col_na=col_na.astype(bool)\n",
    "    # print(col_na)\n",
    "    col_na=~col_na\n",
    "    # print(col_na)\n",
    "    filtered_data=data.loc[:,col_na]\n",
    "    return filtered_data"
   ]
  },
  {
   "cell_type": "code",
   "execution_count": 348,
   "metadata": {},
   "outputs": [],
   "source": [
    "nanFreeSet=[]\n",
    "for scenario in scenarios:\n",
    "    nanfreedata=columnwise_na_elimiation(scenario)\n",
    "    nanFreeSet.append(nanfreedata)\n",
    "\n",
    "train_set=[]\n",
    "testing_set=[]\n",
    "\n",
    "for nanfreeData in nanFreeSet:\n",
    "    train, test = train_test_split(nanfreeData, test_size=0.2)\n",
    "    trainX = train.iloc[:, :-2]\n",
    "    trainY = train.iloc[:, -2:]\n",
    "    testX = test.iloc[:, :-2]\n",
    "    testY = test.iloc[:, -2:]\n",
    "\n",
    "    scaler = StandardScaler()\n",
    "    trainX_scaled = scaler.fit_transform(trainX)\n",
    "    testX_scaled = scaler.transform(testX)\n",
    "\n",
    "    pca = PCA(n_components=5)\n",
    "    trainX_pca = pca.fit_transform(trainX_scaled)\n",
    "    testX_pca = pca.transform(testX_scaled)\n",
    "\n",
    "    train_set.append((trainX_pca,trainY))\n",
    "    testing_set.append((testX_pca,testY))\n"
   ]
  },
  {
   "cell_type": "code",
   "execution_count": 349,
   "metadata": {},
   "outputs": [],
   "source": [
    "#Training\n",
    "def training(model,input_lr,trainX,trainY):\n",
    "    optimizer = optim.SGD(model.parameters(), lr=input_lr)\n",
    "    mse_loss = Loss.MSELoss()\n",
    "\n",
    "    # Convert data to tensors\n",
    "    trainX_tensor = torch.tensor(trainX, dtype=torch.float32)\n",
    "    trainY_tensor = torch.tensor(np.array(trainY), dtype=torch.float32).reshape(-1, 1)\n",
    "\n",
    "    # Training loop\n",
    "    for epoch in range(1000):\n",
    "        optimizer.zero_grad()\n",
    "        predicted_result = model(trainX_tensor)\n",
    "        loss = mse_loss(predicted_result, trainY_tensor,model)\n",
    "        loss.backward()\n",
    "        optimizer.step()\n",
    "    #     if (epoch>990):\n",
    "    #         print(f\"Epoch [{epoch + 1}/10], Loss: {loss.item()}\")\n",
    "    # print(list(model.parameters()))\n",
    "\n",
    "def scoring(model,testX,testY):\n",
    "    testX=torch.tensor(testX,dtype=torch.float32)\n",
    "    return ((mean_squared_error(testY,(model(testX)).detach().numpy())),r2_score(testY,(model(testX)).detach().numpy()))"
   ]
  },
  {
   "cell_type": "code",
   "execution_count": 353,
   "metadata": {},
   "outputs": [
    {
     "name": "stdout",
     "output_type": "stream",
     "text": [
      "2  number of neurons Fermi_energy for scenario  1  has MSE of:  1.3011264579601078  r2  of  -0.5097773857662864\n",
      "2  number of neurons thermo_prob_norm for scenario  1  has MSE of:  0.01632955166283644  r2  of  -0.43002625499645397\n",
      "3  number of neurons Fermi_energy for scenario  1  has MSE of:  1.3287307939453128  r2  of  -0.5418084016330278\n",
      "3  number of neurons thermo_prob_norm for scenario  1  has MSE of:  0.01792178914730563  r2  of  -0.569463114868267\n",
      "4  number of neurons Fermi_energy for scenario  1  has MSE of:  1.1450425986113697  r2  of  -0.3286636441417383\n",
      "4  number of neurons thermo_prob_norm for scenario  1  has MSE of:  0.02456729329243578  r2  of  -1.15142920931113\n",
      "5  number of neurons Fermi_energy for scenario  1  has MSE of:  1.368018678260886  r2  of  -0.587396560194686\n",
      "5  number of neurons thermo_prob_norm for scenario  1  has MSE of:  0.020744990849698275  r2  of  -0.8166990856365479\n",
      "2  number of neurons Fermi_energy for scenario  2  has MSE of:  1.6097727712377081  r2  of  -0.3112412481304321\n",
      "2  number of neurons thermo_prob_norm for scenario  2  has MSE of:  0.06592781338448127  r2  of  -0.622284505209348\n",
      "3  number of neurons Fermi_energy for scenario  2  has MSE of:  1.6147099475535367  r2  of  -0.31526282766654856\n",
      "3  number of neurons thermo_prob_norm for scenario  2  has MSE of:  0.06022049122850654  r2  of  -0.4818445326915386\n",
      "4  number of neurons Fermi_energy for scenario  2  has MSE of:  1.6971137200660353  r2  of  -0.3823848634286937\n",
      "4  number of neurons thermo_prob_norm for scenario  2  has MSE of:  0.053811641925709114  r2  of  -0.3241420944274882\n",
      "5  number of neurons Fermi_energy for scenario  2  has MSE of:  1.6038186600413535  r2  of  -0.30639132375842726\n",
      "5  number of neurons thermo_prob_norm for scenario  2  has MSE of:  0.0529449456292218  r2  of  -0.30281531441866316\n",
      "2  number of neurons Fermi_energy for scenario  3  has MSE of:  1.4170143615534692  r2  of  -0.6435524513034723\n",
      "2  number of neurons thermo_prob_norm for scenario  3  has MSE of:  0.03138999239917911  r2  of  -1.7784933384454602\n",
      "3  number of neurons Fermi_energy for scenario  3  has MSE of:  1.6977019400239026  r2  of  -0.9691135536904427\n",
      "3  number of neurons thermo_prob_norm for scenario  3  has MSE of:  0.015514275549111712  r2  of  -0.37325013385926975\n",
      "4  number of neurons Fermi_energy for scenario  3  has MSE of:  1.7681028008551023  r2  of  -1.0507694003299526\n",
      "4  number of neurons thermo_prob_norm for scenario  3  has MSE of:  0.01002879337560628  r2  of  0.1122987469249368\n",
      "5  number of neurons Fermi_energy for scenario  3  has MSE of:  1.7815736772264694  r2  of  -1.0663938657426346\n",
      "5  number of neurons thermo_prob_norm for scenario  3  has MSE of:  0.016382482843836244  r2  of  -0.45009972828111966\n"
     ]
    }
   ],
   "source": [
    "#2 neurons is the best overall, cause more than that results in overfitting.\n",
    "for i in range(3):\n",
    "    for j in range(2,6):\n",
    "        trainX=train_set[i][0]\n",
    "        trainY=train_set[i][1].iloc[:,0]\n",
    "        testX=testing_set[i][0]\n",
    "        testY=testing_set[i][1].iloc[:,0]\n",
    "        model=Model.MLPRegression(trainX.shape[1],j,1,2)\n",
    "        training(model,0.001,trainX,trainY)\n",
    "        score=scoring(model,testX,testY)\n",
    "        print(j,\" number of neurons Fermi_energy for scenario \",str(i+1),\" has MSE of: \",score[0],\" r2  of \",score[1])\n",
    "\n",
    "        trainY=train_set[i][1].iloc[:,1]\n",
    "        testY=testing_set[i][1].iloc[:,1]\n",
    "        model=Model.MLPRegression(trainX.shape[1],j,1,2)\n",
    "        training(model,0.001,trainX,trainY)\n",
    "        score=scoring(model,testX,testY)\n",
    "        print(j,\" number of neurons thermo_prob_norm for scenario \",str(i+1),\" has MSE of: \",score[0],\" r2  of \",score[1])"
   ]
  }
 ],
 "metadata": {
  "kernelspec": {
   "display_name": "Python 3 (ipykernel)",
   "language": "python",
   "name": "python3"
  },
  "language_info": {
   "codemirror_mode": {
    "name": "ipython",
    "version": 3
   },
   "file_extension": ".py",
   "mimetype": "text/x-python",
   "name": "python",
   "nbconvert_exporter": "python",
   "pygments_lexer": "ipython3",
   "version": "3.9.7"
  },
  "orig_nbformat": 4
 },
 "nbformat": 4,
 "nbformat_minor": 2
}
